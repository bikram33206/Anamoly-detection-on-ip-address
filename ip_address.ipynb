{
  "nbformat": 4,
  "nbformat_minor": 0,
  "metadata": {
    "colab": {
      "name": "ip_address.ipynb",
      "provenance": [],
      "collapsed_sections": [],
      "toc_visible": true
    },
    "kernelspec": {
      "name": "python3",
      "display_name": "Python 3"
    }
  },
  "cells": [
    {
      "cell_type": "code",
      "metadata": {
        "id": "JuJM_72LLncx",
        "colab_type": "code",
        "colab": {}
      },
      "source": [
        "import numpy as np\n",
        "import pandas as pd\n",
        "import seaborn as sns\n",
        "import matplotlib.pyplot as plt\n",
        "\n",
        "# This is to supress the warning messages (if any) generated in our code\n",
        "import warnings\n",
        "warnings.filterwarnings('ignore')\n",
        "\n",
        "# Comment this if the data visualisations doesn't work on your side\n",
        "%matplotlib inline\n",
        "\n",
        "# We are using whitegrid style for our seaborn plots. This is like the most basic one\n",
        "sns.set_style(style = 'whitegrid')"
      ],
      "execution_count": 0,
      "outputs": []
    },
    {
      "cell_type": "code",
      "metadata": {
        "id": "mFXVPK8Xvn4t",
        "colab_type": "code",
        "colab": {
          "base_uri": "https://localhost:8080/",
          "height": 204
        },
        "outputId": "ca9e0367-5eae-4272-9bae-39eb9c573214"
      },
      "source": [
        "\n",
        "\n",
        "df = pd.read_excel('/content/Data (1).xlsx')\n",
        "df.head()\n"
      ],
      "execution_count": 6,
      "outputs": [
        {
          "output_type": "execute_result",
          "data": {
            "text/html": [
              "<div>\n",
              "<style scoped>\n",
              "    .dataframe tbody tr th:only-of-type {\n",
              "        vertical-align: middle;\n",
              "    }\n",
              "\n",
              "    .dataframe tbody tr th {\n",
              "        vertical-align: top;\n",
              "    }\n",
              "\n",
              "    .dataframe thead th {\n",
              "        text-align: right;\n",
              "    }\n",
              "</style>\n",
              "<table border=\"1\" class=\"dataframe\">\n",
              "  <thead>\n",
              "    <tr style=\"text-align: right;\">\n",
              "      <th></th>\n",
              "      <th>Date_Time</th>\n",
              "      <th>IP_Address</th>\n",
              "      <th>Vendor_Name</th>\n",
              "      <th>Type</th>\n",
              "    </tr>\n",
              "  </thead>\n",
              "  <tbody>\n",
              "    <tr>\n",
              "      <th>0</th>\n",
              "      <td>July 8th 2019, 14:43:03.000</td>\n",
              "      <td>10.1.1.285</td>\n",
              "      <td>Vendor-1</td>\n",
              "      <td>INVOICE</td>\n",
              "    </tr>\n",
              "    <tr>\n",
              "      <th>1</th>\n",
              "      <td>July 8th 2019, 14:43:01.000</td>\n",
              "      <td>10.1.2.389</td>\n",
              "      <td>Vendor-1</td>\n",
              "      <td>INVOICE</td>\n",
              "    </tr>\n",
              "    <tr>\n",
              "      <th>2</th>\n",
              "      <td>July 8th 2019, 14:42:59.000</td>\n",
              "      <td>10.1.1.415</td>\n",
              "      <td>Vendor-1</td>\n",
              "      <td>PRE_APPROVAL</td>\n",
              "    </tr>\n",
              "    <tr>\n",
              "      <th>3</th>\n",
              "      <td>July 8th 2019, 14:42:57.000</td>\n",
              "      <td>10.1.1.79</td>\n",
              "      <td>Vendor-1</td>\n",
              "      <td>PRE_APPROVAL</td>\n",
              "    </tr>\n",
              "    <tr>\n",
              "      <th>4</th>\n",
              "      <td>July 8th 2019, 14:42:55.000</td>\n",
              "      <td>10.1.1.60</td>\n",
              "      <td>Vendor-10</td>\n",
              "      <td>IPC</td>\n",
              "    </tr>\n",
              "  </tbody>\n",
              "</table>\n",
              "</div>"
            ],
            "text/plain": [
              "                     Date_Time  IP_Address Vendor_Name          Type\n",
              "0  July 8th 2019, 14:43:03.000  10.1.1.285    Vendor-1       INVOICE\n",
              "1  July 8th 2019, 14:43:01.000  10.1.2.389    Vendor-1       INVOICE\n",
              "2  July 8th 2019, 14:42:59.000  10.1.1.415    Vendor-1  PRE_APPROVAL\n",
              "3  July 8th 2019, 14:42:57.000   10.1.1.79    Vendor-1  PRE_APPROVAL\n",
              "4  July 8th 2019, 14:42:55.000   10.1.1.60   Vendor-10           IPC"
            ]
          },
          "metadata": {
            "tags": []
          },
          "execution_count": 6
        }
      ]
    },
    {
      "cell_type": "code",
      "metadata": {
        "id": "tZwgaKKf-ERc",
        "colab_type": "code",
        "colab": {
          "base_uri": "https://localhost:8080/",
          "height": 275
        },
        "outputId": "aa0408fd-5307-4275-c419-07664aa04458"
      },
      "source": [
        "!pip install dabl\n",
        "import dabl"
      ],
      "execution_count": 7,
      "outputs": [
        {
          "output_type": "stream",
          "text": [
            "Requirement already satisfied: dabl in /usr/local/lib/python3.6/dist-packages (0.1.8)\n",
            "Requirement already satisfied: seaborn in /usr/local/lib/python3.6/dist-packages (from dabl) (0.10.1)\n",
            "Requirement already satisfied: scikit-learn in /usr/local/lib/python3.6/dist-packages (from dabl) (0.22.2.post1)\n",
            "Requirement already satisfied: scipy in /usr/local/lib/python3.6/dist-packages (from dabl) (1.4.1)\n",
            "Requirement already satisfied: pandas in /usr/local/lib/python3.6/dist-packages (from dabl) (0.25.3)\n",
            "Requirement already satisfied: matplotlib in /usr/local/lib/python3.6/dist-packages (from dabl) (3.2.1)\n",
            "Requirement already satisfied: numpy in /usr/local/lib/python3.6/dist-packages (from dabl) (1.18.4)\n",
            "Requirement already satisfied: joblib>=0.11 in /usr/local/lib/python3.6/dist-packages (from scikit-learn->dabl) (0.14.1)\n",
            "Requirement already satisfied: pytz>=2017.2 in /usr/local/lib/python3.6/dist-packages (from pandas->dabl) (2018.9)\n",
            "Requirement already satisfied: python-dateutil>=2.6.1 in /usr/local/lib/python3.6/dist-packages (from pandas->dabl) (2.8.1)\n",
            "Requirement already satisfied: pyparsing!=2.0.4,!=2.1.2,!=2.1.6,>=2.0.1 in /usr/local/lib/python3.6/dist-packages (from matplotlib->dabl) (2.4.7)\n",
            "Requirement already satisfied: kiwisolver>=1.0.1 in /usr/local/lib/python3.6/dist-packages (from matplotlib->dabl) (1.2.0)\n",
            "Requirement already satisfied: cycler>=0.10 in /usr/local/lib/python3.6/dist-packages (from matplotlib->dabl) (0.10.0)\n",
            "Requirement already satisfied: six>=1.5 in /usr/local/lib/python3.6/dist-packages (from python-dateutil>=2.6.1->pandas->dabl) (1.12.0)\n"
          ],
          "name": "stdout"
        }
      ]
    },
    {
      "cell_type": "code",
      "metadata": {
        "id": "mTjRQH7G-oox",
        "colab_type": "code",
        "colab": {
          "base_uri": "https://localhost:8080/",
          "height": 360
        },
        "outputId": "285d802a-d269-43cd-deff-21414eaf2a73"
      },
      "source": [
        "df_clean=dabl.clean(df,verbose=1)\n",
        "types=dabl.detect_types(df_clean)\n",
        "types"
      ],
      "execution_count": 8,
      "outputs": [
        {
          "output_type": "stream",
          "text": [
            "Detected feature types:\n",
            "0 float, 0 int, 4 object, 0 date, 0 other\n",
            "Interpreted as:\n",
            "continuous      0\n",
            "dirty_float     0\n",
            "low_card_int    0\n",
            "categorical     3\n",
            "date            0\n",
            "free_string     1\n",
            "useless         0\n",
            "dtype: int64\n"
          ],
          "name": "stdout"
        },
        {
          "output_type": "execute_result",
          "data": {
            "text/html": [
              "<div>\n",
              "<style scoped>\n",
              "    .dataframe tbody tr th:only-of-type {\n",
              "        vertical-align: middle;\n",
              "    }\n",
              "\n",
              "    .dataframe tbody tr th {\n",
              "        vertical-align: top;\n",
              "    }\n",
              "\n",
              "    .dataframe thead th {\n",
              "        text-align: right;\n",
              "    }\n",
              "</style>\n",
              "<table border=\"1\" class=\"dataframe\">\n",
              "  <thead>\n",
              "    <tr style=\"text-align: right;\">\n",
              "      <th></th>\n",
              "      <th>continuous</th>\n",
              "      <th>dirty_float</th>\n",
              "      <th>low_card_int</th>\n",
              "      <th>categorical</th>\n",
              "      <th>date</th>\n",
              "      <th>free_string</th>\n",
              "      <th>useless</th>\n",
              "    </tr>\n",
              "  </thead>\n",
              "  <tbody>\n",
              "    <tr>\n",
              "      <th>Date_Time</th>\n",
              "      <td>False</td>\n",
              "      <td>False</td>\n",
              "      <td>False</td>\n",
              "      <td>False</td>\n",
              "      <td>False</td>\n",
              "      <td>True</td>\n",
              "      <td>False</td>\n",
              "    </tr>\n",
              "    <tr>\n",
              "      <th>IP_Address</th>\n",
              "      <td>False</td>\n",
              "      <td>False</td>\n",
              "      <td>False</td>\n",
              "      <td>True</td>\n",
              "      <td>False</td>\n",
              "      <td>False</td>\n",
              "      <td>False</td>\n",
              "    </tr>\n",
              "    <tr>\n",
              "      <th>Vendor_Name</th>\n",
              "      <td>False</td>\n",
              "      <td>False</td>\n",
              "      <td>False</td>\n",
              "      <td>True</td>\n",
              "      <td>False</td>\n",
              "      <td>False</td>\n",
              "      <td>False</td>\n",
              "    </tr>\n",
              "    <tr>\n",
              "      <th>Type</th>\n",
              "      <td>False</td>\n",
              "      <td>False</td>\n",
              "      <td>False</td>\n",
              "      <td>True</td>\n",
              "      <td>False</td>\n",
              "      <td>False</td>\n",
              "      <td>False</td>\n",
              "    </tr>\n",
              "  </tbody>\n",
              "</table>\n",
              "</div>"
            ],
            "text/plain": [
              "             continuous  dirty_float  low_card_int  ...   date  free_string  useless\n",
              "Date_Time         False        False         False  ...  False         True    False\n",
              "IP_Address        False        False         False  ...  False        False    False\n",
              "Vendor_Name       False        False         False  ...  False        False    False\n",
              "Type              False        False         False  ...  False        False    False\n",
              "\n",
              "[4 rows x 7 columns]"
            ]
          },
          "metadata": {
            "tags": []
          },
          "execution_count": 8
        }
      ]
    },
    {
      "cell_type": "code",
      "metadata": {
        "id": "54VUx59TzPry",
        "colab_type": "code",
        "colab": {
          "base_uri": "https://localhost:8080/",
          "height": 102
        },
        "outputId": "c8d7384d-e88f-4688-e11e-717893db05f3"
      },
      "source": [
        "df.isnull().sum()"
      ],
      "execution_count": 9,
      "outputs": [
        {
          "output_type": "execute_result",
          "data": {
            "text/plain": [
              "Date_Time         0\n",
              "IP_Address       29\n",
              "Vendor_Name       3\n",
              "Type           4808\n",
              "dtype: int64"
            ]
          },
          "metadata": {
            "tags": []
          },
          "execution_count": 9
        }
      ]
    },
    {
      "cell_type": "code",
      "metadata": {
        "id": "DDWUsF6L01ZS",
        "colab_type": "code",
        "colab": {
          "base_uri": "https://localhost:8080/",
          "height": 241
        },
        "outputId": "0e32d0cb-8f9b-42f7-9c32-a91664b0a492"
      },
      "source": [
        "!pip install missingno\n",
        "import missingno as msno\n"
      ],
      "execution_count": 10,
      "outputs": [
        {
          "output_type": "stream",
          "text": [
            "Requirement already satisfied: missingno in /usr/local/lib/python3.6/dist-packages (0.4.2)\n",
            "Requirement already satisfied: matplotlib in /usr/local/lib/python3.6/dist-packages (from missingno) (3.2.1)\n",
            "Requirement already satisfied: seaborn in /usr/local/lib/python3.6/dist-packages (from missingno) (0.10.1)\n",
            "Requirement already satisfied: scipy in /usr/local/lib/python3.6/dist-packages (from missingno) (1.4.1)\n",
            "Requirement already satisfied: numpy in /usr/local/lib/python3.6/dist-packages (from missingno) (1.18.4)\n",
            "Requirement already satisfied: cycler>=0.10 in /usr/local/lib/python3.6/dist-packages (from matplotlib->missingno) (0.10.0)\n",
            "Requirement already satisfied: kiwisolver>=1.0.1 in /usr/local/lib/python3.6/dist-packages (from matplotlib->missingno) (1.2.0)\n",
            "Requirement already satisfied: python-dateutil>=2.1 in /usr/local/lib/python3.6/dist-packages (from matplotlib->missingno) (2.8.1)\n",
            "Requirement already satisfied: pyparsing!=2.0.4,!=2.1.2,!=2.1.6,>=2.0.1 in /usr/local/lib/python3.6/dist-packages (from matplotlib->missingno) (2.4.7)\n",
            "Requirement already satisfied: pandas>=0.22.0 in /usr/local/lib/python3.6/dist-packages (from seaborn->missingno) (0.25.3)\n",
            "Requirement already satisfied: six in /usr/local/lib/python3.6/dist-packages (from cycler>=0.10->matplotlib->missingno) (1.12.0)\n",
            "Requirement already satisfied: pytz>=2017.2 in /usr/local/lib/python3.6/dist-packages (from pandas>=0.22.0->seaborn->missingno) (2018.9)\n"
          ],
          "name": "stdout"
        }
      ]
    },
    {
      "cell_type": "code",
      "metadata": {
        "id": "pL69_BKsB_rx",
        "colab_type": "code",
        "colab": {
          "base_uri": "https://localhost:8080/",
          "height": 498
        },
        "outputId": "815bfd04-9998-4760-8af1-c230a45431b3"
      },
      "source": [
        "msno.bar(df)"
      ],
      "execution_count": 11,
      "outputs": [
        {
          "output_type": "execute_result",
          "data": {
            "text/plain": [
              "<matplotlib.axes._subplots.AxesSubplot at 0x7fe93ed347b8>"
            ]
          },
          "metadata": {
            "tags": []
          },
          "execution_count": 11
        },
        {
          "output_type": "display_data",
          "data": {
            "image/png": "[encoded data removed]",
            "text/plain": [
              "<Figure size 1728x720 with 3 Axes>"
            ]
          },
          "metadata": {
            "tags": []
          }
        }
      ]
    },
    {
      "cell_type": "code",
      "metadata": {
        "id": "20-h1UjvC8od",
        "colab_type": "code",
        "colab": {
          "base_uri": "https://localhost:8080/",
          "height": 499
        },
        "outputId": "1604c751-b16e-4c2d-a18c-7a98b96e4a1c"
      },
      "source": [
        "df1 = df.dropna(how='any',axis=0) \n",
        "msno.bar(df1)\n"
      ],
      "execution_count": 12,
      "outputs": [
        {
          "output_type": "execute_result",
          "data": {
            "text/plain": [
              "<matplotlib.axes._subplots.AxesSubplot at 0x7fe93d9e24e0>"
            ]
          },
          "metadata": {
            "tags": []
          },
          "execution_count": 12
        },
        {
          "output_type": "display_data",
          "data": {
            "image/png": "[encoded data removed]",
            "text/plain": [
              "<Figure size 1728x720 with 3 Axes>"
            ]
          },
          "metadata": {
            "tags": []
          }
        }
      ]
    },
    {
      "cell_type": "code",
      "metadata": {
        "id": "ApraIa0uGUr-",
        "colab_type": "code",
        "colab": {
          "base_uri": "https://localhost:8080/",
          "height": 85
        },
        "outputId": "27ae1b80-274e-4535-c9e7-281e8fe6af89"
      },
      "source": [
        "print(df1.head(2))\n",
        "print(df1.shape)"
      ],
      "execution_count": 16,
      "outputs": [
        {
          "output_type": "stream",
          "text": [
            "                     Date_Time  IP_Address Vendor_Name     Type\n",
            "0  July 8th 2019, 14:43:03.000  10.1.1.285    Vendor-1  INVOICE\n",
            "1  July 8th 2019, 14:43:01.000  10.1.2.389    Vendor-1  INVOICE\n",
            "(391382, 4)\n"
          ],
          "name": "stdout"
        }
      ]
    },
    {
      "cell_type": "code",
      "metadata": {
        "id": "GN9v9EPbPle0",
        "colab_type": "code",
        "colab": {
          "base_uri": "https://localhost:8080/",
          "height": 34
        },
        "outputId": "92a5d08b-22c7-455e-ea07-970e1c61c263"
      },
      "source": [
        "df2=df1.drop_duplicates(keep=False)\n",
        "df2.shape"
      ],
      "execution_count": 14,
      "outputs": [
        {
          "output_type": "execute_result",
          "data": {
            "text/plain": [
              "(391350, 4)"
            ]
          },
          "metadata": {
            "tags": []
          },
          "execution_count": 14
        }
      ]
    },
    {
      "cell_type": "code",
      "metadata": {
        "id": "wnc6nrplUrOu",
        "colab_type": "code",
        "colab": {}
      },
      "source": [
        "def categorical_summarized(dataframe, x=None, y=None, hue=None, palette='Set1', verbose=True):\n",
        "    '''\n",
        "    Helper function that gives a quick summary of a given column of categorical data\n",
        "    Arguments\n",
        "    =========\n",
        "    dataframe: pandas dataframe\n",
        "    x: str. horizontal axis to plot the labels of categorical data, y would be the count\n",
        "    y: str. vertical axis to plot the labels of categorical data, x would be the count\n",
        "    hue: str. if you want to compare it another variable (usually the target variable)\n",
        "    palette: array-like. Colour of the plot\n",
        "    Returns\n",
        "    =======\n",
        "    Quick Stats of the data and also the count plot\n",
        "    '''\n",
        "    if x == None:\n",
        "        column_interested = y\n",
        "    else:\n",
        "        column_interested = x\n",
        "    series = df2[column_interested]\n",
        "    print(series.describe())\n",
        "    print('mode: ', series.mode())\n",
        "    if verbose:\n",
        "        print('-'*40)\n",
        "        print(series.value_counts())\n",
        "\n",
        "        print('*'*80)\n",
        "\n",
        "    sns.countplot(x=x, y=y, hue=hue, data=df2, palette=palette)\n",
        "    #plt.show()"
      ],
      "execution_count": 0,
      "outputs": []
    },
    {
      "cell_type": "code",
      "metadata": {
        "id": "ZpTCNR_4WGCz",
        "colab_type": "code",
        "colab": {
          "base_uri": "https://localhost:8080/",
          "height": 1000
        },
        "outputId": "2de75343-fda0-436c-a982-9a3fa6ea51ca"
      },
      "source": [
        " categorical_summarized(df2, x='Vendor_Name', y=None, hue=None, palette='Set1', verbose=True)\n",
        " categorical_summarized(df2, x='IP_Address', y=None, hue=None, palette='Set1', verbose=True)\n",
        " categorical_summarized(df2, x='Date_Time', y=None, hue=None, palette='Set1', verbose=True)\n",
        " categorical_summarized(df2, x='Type', y=None, hue=None, palette='Set1', verbose=True)\n",
        " \n",
        " #Date_Time\tIP_Address\tVendor_Name\t"
      ],
      "execution_count": 20,
      "outputs": [
        {
          "output_type": "stream",
          "text": [
            "count         391350\n",
            "unique           619\n",
            "top       Vendor-775\n",
            "freq           25894\n",
            "Name: Vendor_Name, dtype: object\n",
            "mode:  0    Vendor-775\n",
            "dtype: object\n",
            "----------------------------------------\n",
            "Vendor-775    25894\n",
            "Vendor-239    20880\n",
            "Vendor-143    12042\n",
            "Vendor-130    10036\n",
            "Vendor-103     9472\n",
            "              ...  \n",
            "Vendor-384       10\n",
            "Vendor-512       10\n",
            "Vendor-411       10\n",
            "Vendor-408       10\n",
            "Vendor-322       10\n",
            "Name: Vendor_Name, Length: 619, dtype: int64\n",
            "********************************************************************************\n",
            "count        391350\n",
            "unique          386\n",
            "top       10.1.1.63\n",
            "freq           2413\n",
            "Name: IP_Address, dtype: object\n",
            "mode:  0    10.1.1.63\n",
            "1    10.1.2.86\n",
            "dtype: object\n",
            "----------------------------------------\n",
            "10.1.1.63     2413\n",
            "10.1.2.86     2413\n",
            "10.1.1.486    2385\n",
            "10.1.1.86     2371\n",
            "10.1.2.249    2362\n",
            "              ... \n",
            "10.1.2.186     726\n",
            "10.1.2.171     723\n",
            "10.1.1.12      721\n",
            "10.1.2.349     719\n",
            "10.1.2.1       706\n",
            "Name: IP_Address, Length: 386, dtype: int64\n",
            "********************************************************************************\n",
            "count                          391350\n",
            "unique                         391265\n",
            "top       July 4th 2019, 09:27:05.000\n",
            "freq                                7\n",
            "Name: Date_Time, dtype: object\n",
            "mode:  0    July 4th 2019, 09:27:05.000\n",
            "dtype: object\n",
            "----------------------------------------\n",
            "July 4th 2019, 09:27:05.000     7\n",
            "June 27th 2019, 13:01:45.000    6\n",
            "July 4th 2019, 09:27:04.000     5\n",
            "June 27th 2019, 13:01:42.000    5\n",
            "July 8th 2019, 13:45:09.000     4\n",
            "                               ..\n",
            "July 2nd 2019, 04:56:49.000     1\n",
            "June 30th 2019, 22:07:05.000    1\n",
            "July 4th 2019, 00:06:55.000     1\n",
            "July 2nd 2019, 15:06:50.000     1\n",
            "July 1st 2019, 21:09:49.000     1\n",
            "Name: Date_Time, Length: 391265, dtype: int64\n",
            "********************************************************************************\n",
            "count      391350\n",
            "unique          6\n",
            "top       INVOICE\n",
            "freq       201814\n",
            "Name: Type, dtype: object\n",
            "mode:  0    INVOICE\n",
            "dtype: object\n",
            "----------------------------------------\n",
            "INVOICE         201814\n",
            "IPC              72895\n",
            "IP               63496\n",
            "PRE_APPROVAL     43494\n",
            "GR                9482\n",
            "INQUIRY            169\n",
            "Name: Type, dtype: int64\n",
            "********************************************************************************\n"
          ],
          "name": "stdout"
        }
      ]
    },
    {
      "cell_type": "code",
      "metadata": {
        "id": "gN7Khk7bjIyt",
        "colab_type": "code",
        "colab": {
          "base_uri": "https://localhost:8080/",
          "height": 1000
        },
        "outputId": "e9d77b77-8f7c-43a6-e8b9-8137f3187389"
      },
      "source": [
        "df2.IP_Address.unique()"
      ],
      "execution_count": 32,
      "outputs": [
        {
          "output_type": "execute_result",
          "data": {
            "text/plain": [
              "array(['10.1.1.285', '10.1.2.389', '10.1.1.415', '10.1.1.79', '10.1.1.60',\n",
              "       '10.1.2.66', '10.1.2.25', '10.1.2.247', '10.1.2.128', '10.1.1.243',\n",
              "       '10.1.1.383', '10.1.2.279', '10.1.2.264', '10.1.2.468',\n",
              "       '10.1.2.95', '10.1.2.47', '10.1.1.64', '10.1.2.412', '10.1.2.313',\n",
              "       '10.1.2.1', '10.1.2.89', '10.1.1.170', '10.1.1.446', '10.1.1.63',\n",
              "       '10.1.2.426', '10.1.1.382', '10.1.1.417', '10.1.2.177', '10.1.1.3',\n",
              "       '10.1.2.54', '10.1.1.301', '10.1.1.71', '10.1.2.250', '10.1.2.316',\n",
              "       '10.1.2.446', '10.1.2.86', '10.1.2.179', '10.1.2.12', '10.1.2.471',\n",
              "       '10.1.2.160', '10.1.1.405', '10.1.1.36', '10.1.1.306',\n",
              "       '10.1.1.100', '10.1.2.161', '10.1.2.376', '10.1.1.495',\n",
              "       '10.1.2.343', '10.1.1.12', '10.1.1.83', '10.1.2.424', '10.1.2.371',\n",
              "       '10.1.2.458', '10.1.2.273', '10.1.2.191', '10.1.2.100',\n",
              "       '10.1.2.408', '10.1.1.471', '10.1.1.214', '10.1.1.90', '10.1.1.86',\n",
              "       '10.1.1.367', '10.1.2.383', '10.1.2.497', '10.1.1.114',\n",
              "       '10.1.2.139', '10.1.2.41', '10.1.2.211', '10.1.1.46', '10.1.1.311',\n",
              "       '10.1.2.368', '10.1.2.442', '10.1.2.405', '10.1.2.311',\n",
              "       '10.1.1.249', '10.1.1.2', '10.1.1.163', '10.1.2.67', '10.1.2.364',\n",
              "       '10.1.2.46', '10.1.1.67', '10.1.2.195', '10.1.1.428', '10.1.2.461',\n",
              "       '10.1.1.486', '10.1.1.465', '10.1.2.69', '10.1.2.486',\n",
              "       '10.1.2.500', '10.1.1.424', '10.1.2.341', '10.1.1.264',\n",
              "       '10.1.2.83', '10.1.1.467', '10.1.2.18', '10.1.2.172', '10.1.1.186',\n",
              "       '10.1.2.320', '10.1.2.114', '10.1.1.323', '10.1.2.492',\n",
              "       '10.1.1.332', '10.1.1.225', '10.1.1.459', '10.1.2.49', '10.1.1.51',\n",
              "       '10.1.2.374', '10.1.1.61', '10.1.1.433', '10.1.2.33', '10.1.2.382',\n",
              "       '10.1.1.197', '10.1.2.386', '10.1.1.147', '10.1.2.417',\n",
              "       '10.1.2.225', '10.1.1.15', '10.1.1.223', '10.1.1.161',\n",
              "       '10.1.1.171', '10.1.1.95', '10.1.2.199', '10.1.1.26', '10.1.1.406',\n",
              "       '10.1.1.110', '10.1.2.170', '10.1.2.438', '10.1.2.347',\n",
              "       '10.1.2.350', '10.1.2.257', '10.1.1.239', '10.1.1.109',\n",
              "       '10.1.1.129', '10.1.1.165', '10.1.2.255', '10.1.1.179',\n",
              "       '10.1.1.389', '10.1.2.469', '10.1.2.64', '10.1.2.249',\n",
              "       '10.1.2.138', '10.1.2.48', '10.1.2.406', '10.1.2.34', '10.1.1.149',\n",
              "       '10.1.1.398', '10.1.2.450', '10.1.2.239', '10.1.2.182',\n",
              "       '10.1.1.314', '10.1.1.19', '10.1.2.464', '10.1.2.63', '10.1.2.106',\n",
              "       '10.1.2.73', '10.1.1.89', '10.1.2.90', '10.1.2.314', '10.1.2.79',\n",
              "       '10.1.1.178', '10.1.2.217', '10.1.2.180', '10.1.1.33',\n",
              "       '10.1.2.285', '10.1.1.386', '10.1.1.276', '10.1.2.2', '10.1.1.313',\n",
              "       '10.1.2.499', '10.1.1.458', '10.1.1.182', '10.1.1.410',\n",
              "       '10.1.1.442', '10.1.1.42', '10.1.2.156', '10.1.2.59', '10.1.1.152',\n",
              "       '10.1.1.356', '10.1.1.201', '10.1.1.438', '10.1.2.336',\n",
              "       '10.1.1.376', '10.1.1.350', '10.1.1.341', '10.1.1.69',\n",
              "       '10.1.1.200', '10.1.2.339', '10.1.1.426', '10.1.1.435',\n",
              "       '10.1.1.24', '10.1.2.15', '10.1.1.427', '10.1.2.227', '10.1.1.255',\n",
              "       '10.1.2.310', '10.1.1.263', '10.1.2.332', '10.1.2.42',\n",
              "       '10.1.1.450', '10.1.1.273', '10.1.2.26', '10.1.2.476',\n",
              "       '10.1.1.250', '10.1.1.211', '10.1.1.349', '10.1.1.257',\n",
              "       '10.1.1.343', '10.1.2.287', '10.1.2.71', '10.1.1.463',\n",
              "       '10.1.2.481', '10.1.1.212', '10.1.2.101', '10.1.1.336',\n",
              "       '10.1.2.263', '10.1.1.48', '10.1.1.199', '10.1.1.364',\n",
              "       '10.1.2.165', '10.1.2.99', '10.1.2.415', '10.1.1.227',\n",
              "       '10.1.1.177', '10.1.1.247', '10.1.1.499', '10.1.2.147',\n",
              "       '10.1.2.19', '10.1.1.228', '10.1.2.284', '10.1.1.175', '10.1.1.99',\n",
              "       '10.1.2.346', '10.1.2.212', '10.1.2.463', '10.1.1.384',\n",
              "       '10.1.1.370', '10.1.2.209', '10.1.2.51', '10.1.2.432',\n",
              "       '10.1.2.387', '10.1.1.320', '10.1.2.293', '10.1.2.454',\n",
              "       '10.1.1.195', '10.1.2.197', '10.1.2.171', '10.1.1.279',\n",
              "       '10.1.1.476', '10.1.1.34', '10.1.1.454', '10.1.1.346',\n",
              "       '10.1.2.445', '10.1.2.322', '10.1.2.467', '10.1.2.459',\n",
              "       '10.1.2.121', '10.1.1.160', '10.1.1.347', '10.1.1.191',\n",
              "       '10.1.1.497', '10.1.2.152', '10.1.1.461', '10.1.1.54',\n",
              "       '10.1.1.469', '10.1.1.374', '10.1.2.495', '10.1.2.135',\n",
              "       '10.1.1.156', '10.1.2.260', '10.1.1.408', '10.1.1.302',\n",
              "       '10.1.2.213', '10.1.1.41', '10.1.2.384', '10.1.1.59', '10.1.1.286',\n",
              "       '10.1.2.349', '10.1.2.118', '10.1.1.25', '10.1.2.465',\n",
              "       '10.1.1.204', '10.1.2.178', '10.1.2.427', '10.1.2.423',\n",
              "       '10.1.1.394', '10.1.2.85', '10.1.1.483', '10.1.2.269',\n",
              "       '10.1.1.322', '10.1.1.18', '10.1.2.223', '10.1.1.492',\n",
              "       '10.1.2.302', '10.1.1.316', '10.1.1.168', '10.1.1.284',\n",
              "       '10.1.2.158', '10.1.2.398', '10.1.1.287', '10.1.2.385',\n",
              "       '10.1.1.172', '10.1.2.3', '10.1.2.24', '10.1.2.77', '10.1.1.432',\n",
              "       '10.1.1.49', '10.1.2.50', '10.1.2.200', '10.1.1.412', '10.1.1.310',\n",
              "       '10.1.2.201', '10.1.2.323', '10.1.1.210', '10.1.2.36',\n",
              "       '10.1.1.371', '10.1.2.214', '10.1.2.119', '10.1.1.139',\n",
              "       '10.1.2.447', '10.1.1.468', '10.1.2.110', '10.1.2.435',\n",
              "       '10.1.2.60', '10.1.1.464', '10.1.1.106', '10.1.1.85', '10.1.2.129',\n",
              "       '10.1.1.260', '10.1.1.180', '10.1.2.61', '10.1.1.387',\n",
              "       '10.1.2.175', '10.1.2.204', '10.1.1.158', '10.1.1.119', '10.1.1.1',\n",
              "       '10.1.2.422', '10.1.2.394', '10.1.1.368', '10.1.2.163',\n",
              "       '10.1.2.306', '10.1.1.500', '10.1.2.428', '10.1.1.118',\n",
              "       '10.1.1.339', '10.1.2.109', '10.1.2.367', '10.1.1.77',\n",
              "       '10.1.1.138', '10.1.1.445', '10.1.1.128', '10.1.2.228',\n",
              "       '10.1.2.286', '10.1.1.135', '10.1.1.295', '10.1.1.121',\n",
              "       '10.1.1.293', '10.1.2.186', '10.1.2.168', '10.1.1.481',\n",
              "       '10.1.1.217', '10.1.1.385', '10.1.2.410', '10.1.2.483',\n",
              "       '10.1.2.295', '10.1.1.209', '10.1.1.213', '10.1.1.422',\n",
              "       '10.1.2.276', '10.1.2.243', '10.1.2.149', '10.1.2.210',\n",
              "       '10.1.1.269', '10.1.2.370', '10.1.2.356', '10.1.1.447',\n",
              "       '10.1.1.73', '10.1.1.101', '10.1.1.423', '10.1.1.298',\n",
              "       '10.1.2.433', '10.1.1.47', '10.1.2.298', '10.1.1.66', '10.1.2.301',\n",
              "       '10.1.1.50'], dtype=object)"
            ]
          },
          "metadata": {
            "tags": []
          },
          "execution_count": 32
        }
      ]
    }
  ]
}